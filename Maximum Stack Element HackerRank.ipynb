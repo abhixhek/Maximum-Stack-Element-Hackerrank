{
 "cells": [
  {
   "cell_type": "markdown",
   "metadata": {},
   "source": [
    "## Runs For every Test Cases:\n"
   ]
  },
  {
   "cell_type": "markdown",
   "metadata": {},
   "source": [
    "This one solution runs for every test case in hacker rank but in this solution because python didn't demands for any stack implementation because just by performing a single or more operation its inbuilt List Datastructure is enough and works like array,stack and even in some cases with other functionalities works like deque."
   ]
  },
  {
   "cell_type": "code",
   "execution_count": null,
   "metadata": {},
   "outputs": [],
   "source": [
    "N = int(input())\n",
    "stack = []\n",
    "for i in range(N):\n",
    "    line = input()\n",
    "    query = line[0]\n",
    "    if query == '1':\n",
    "        val = int(line[2:])\n",
    "        if len(stack) == 0:\n",
    "            stack.append(val)\n",
    "        else:\n",
    "            currMax = stack[-1]\n",
    "            stack.append(val if val > currMax else currMax)\n",
    "    elif query == '2':\n",
    "        stack.pop()\n",
    "    else:\n",
    "        print(stack[-1])"
   ]
  },
  {
   "cell_type": "markdown",
   "metadata": {},
   "source": [
    "## Runs for partial test Cases:"
   ]
  },
  {
   "cell_type": "markdown",
   "metadata": {},
   "source": [
    "This solution code isn't optimized that much but in this case a stack is implemented manually it's a dynamic kind of stack but there's a problem it works fine but in hackerrank test case after 17 it's taking more time then the demanding one in hackerrank"
   ]
  },
  {
   "cell_type": "code",
   "execution_count": 1,
   "metadata": {},
   "outputs": [
    {
     "name": "stdout",
     "output_type": "stream",
     "text": [
      "10\n",
      "1 2\n",
      "1 97\n",
      "2\n",
      "1 56\n",
      "1 52\n",
      "3\n",
      "2\n",
      "1 99\n",
      "1 101\n",
      "2\n",
      "56\n"
     ]
    }
   ],
   "source": [
    "n= int(input())\n",
    "lis = []\n",
    "for i in range(n):\n",
    "    a=list(map(int,input().split()))\n",
    "    lis.append(a)\n",
    "        \n",
    "class stack(object):\n",
    "    def __init__(self,limit):\n",
    "        self.item=[]\n",
    "        self.limit=limit\n",
    "    \n",
    "    def push(self,item):\n",
    "        self.item.append(item)\n",
    "    def pop(self):\n",
    "        self.item.pop()\n",
    "    def max_ele(self):\n",
    "        for ele in self.item:\n",
    "            print(max(self.item))\n",
    "            return max(self.item)\n",
    "        \n",
    "ss = stack(n*100)\n",
    "for i in lis:\n",
    "    if i[0] == 1:\n",
    "        ss.push(i[1])\n",
    "    if i[0] == 2:\n",
    "        ss.pop()\n",
    "    if i[0] == 3:\n",
    "        ss.max_ele()"
   ]
  },
  {
   "cell_type": "code",
   "execution_count": null,
   "metadata": {},
   "outputs": [],
   "source": []
  }
 ],
 "metadata": {
  "kernelspec": {
   "display_name": "Python 3",
   "language": "python",
   "name": "python3"
  },
  "language_info": {
   "codemirror_mode": {
    "name": "ipython",
    "version": 3
   },
   "file_extension": ".py",
   "mimetype": "text/x-python",
   "name": "python",
   "nbconvert_exporter": "python",
   "pygments_lexer": "ipython3",
   "version": "3.7.2"
  }
 },
 "nbformat": 4,
 "nbformat_minor": 2
}
